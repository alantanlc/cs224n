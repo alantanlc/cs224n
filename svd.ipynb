{
 "cells": [
  {
   "cell_type": "markdown",
   "metadata": {},
   "source": [
    "# Simple Singular Vector Decomposition word vectors in Python"
   ]
  },
  {
   "cell_type": "markdown",
   "metadata": {},
   "source": [
    "Corpus:\n",
    "- I like deep learning.\n",
    "- I like NLP.\n",
    "- I enjoy flying."
   ]
  },
  {
   "cell_type": "code",
   "execution_count": null,
   "metadata": {},
   "outputs": [],
   "source": [
    "import numpy as np\n",
    "\n",
    "la = np.linalg\n",
    "words = ['I', 'like', 'enjoy', 'deep', 'learning', 'NLP', 'flying', '.']\n",
    "X = np.array([[0,2,1,0,0,0,0,0],\n",
    "             [2,0,0,1,0,1,0,0],\n",
    "             [1,0,0,0,0,0,1,0],\n",
    "             [0,1,0,0,1,0,0,0],\n",
    "             [0,0,0,1,0,0,0,1],\n",
    "             [0,1,0,0,0,0,0,1],\n",
    "             [0,0,1,0,0,0,0,1],\n",
    "             [0,0,0,0,1,1,1,0]])\n",
    "\n",
    "U, s, Vh = la.svd(X, full_matrices=False)"
   ]
  },
  {
   "cell_type": "code",
   "execution_count": 19,
   "metadata": {},
   "outputs": [
    {
     "name": "stdout",
     "output_type": "stream",
     "text": [
      "<class 'numpy.ndarray'> [[-5.24124930e-01 -5.72859145e-01  9.54463014e-02  3.83228493e-01\n",
      "  -1.76963375e-01 -1.76092183e-01 -4.19185600e-01 -5.57702732e-02]\n",
      " [-5.94438071e-01  6.30120664e-01 -1.70207779e-01  3.10038363e-01\n",
      "   1.84062339e-01 -2.34777849e-01  1.29535474e-01  1.36813128e-01]\n",
      " [-2.56274005e-01  2.74017533e-01  1.59810848e-01  2.80462106e-16\n",
      "  -5.78984617e-01  6.36550929e-01 -4.85726373e-16 -3.05414877e-01]\n",
      " [-2.85637408e-01 -2.47912130e-01  3.54610324e-01 -7.31901294e-02\n",
      "   4.45784489e-01  8.36141432e-02  5.48721075e-01 -4.68012411e-01]\n",
      " [-1.93139313e-01  3.38495048e-02 -5.00790405e-01 -4.28462480e-01\n",
      "   3.47110226e-01  1.55483227e-01 -4.68663749e-01 -4.03576557e-01]\n",
      " [-3.05134684e-01 -2.93988990e-01 -2.23433593e-01 -1.91614246e-01\n",
      "   1.27460940e-01  4.91219408e-01  2.09592800e-01  6.57535375e-01]\n",
      " [-1.82489837e-01 -1.61027767e-01 -3.97842428e-01 -3.83228493e-01\n",
      "  -5.12923221e-01 -4.27574417e-01  4.19185600e-01 -1.18313828e-01]\n",
      " [-2.46898426e-01  1.57254762e-01  5.92991677e-01 -6.20076727e-01\n",
      "  -3.21868120e-02 -2.31065080e-01 -2.59070949e-01  2.37976916e-01]] (8, 8) \n",
      "\n",
      "<class 'numpy.ndarray'> [2.75726275 2.678248   1.89221277 1.61803399 1.19154564 0.94833983\n",
      " 0.61803399 0.56999221] (8,) \n",
      "\n",
      "<class 'numpy.ndarray'> [[-5.24124930e-01 -5.94438071e-01 -2.56274005e-01 -2.85637408e-01\n",
      "  -1.93139313e-01 -3.05134684e-01 -1.82489837e-01 -2.46898426e-01]\n",
      " [ 5.72859145e-01 -6.30120664e-01 -2.74017533e-01  2.47912130e-01\n",
      "  -3.38495048e-02  2.93988990e-01  1.61027767e-01 -1.57254762e-01]\n",
      " [-9.54463014e-02  1.70207779e-01 -1.59810848e-01 -3.54610324e-01\n",
      "   5.00790405e-01  2.23433593e-01  3.97842428e-01 -5.92991677e-01]\n",
      " [ 3.83228493e-01  3.10038363e-01 -5.55111512e-16 -7.31901294e-02\n",
      "  -4.28462480e-01 -1.91614246e-01 -3.83228493e-01 -6.20076727e-01]\n",
      " [-1.76963375e-01  1.84062339e-01 -5.78984617e-01  4.45784489e-01\n",
      "   3.47110226e-01  1.27460940e-01 -5.12923221e-01 -3.21868120e-02]\n",
      " [ 1.76092183e-01  2.34777849e-01 -6.36550929e-01 -8.36141432e-02\n",
      "  -1.55483227e-01 -4.91219408e-01  4.27574417e-01  2.31065080e-01]\n",
      " [ 4.19185600e-01 -1.29535474e-01  4.44089210e-16 -5.48721075e-01\n",
      "   4.68663749e-01 -2.09592800e-01 -4.19185600e-01  2.59070949e-01]\n",
      " [-5.57702732e-02  1.36813128e-01 -3.05414877e-01 -4.68012411e-01\n",
      "  -4.03576557e-01  6.57535375e-01 -1.18313828e-01  2.37976916e-01]] (8, 8) \n",
      "\n"
     ]
    }
   ],
   "source": [
    "print(type(U), U, U.shape, '\\n')\n",
    "print(type(s), s, s.shape, '\\n')\n",
    "print(type(Vh), Vh, Vh.shape, '\\n')"
   ]
  },
  {
   "cell_type": "markdown",
   "metadata": {},
   "source": [
    "Print first two columns of U corresponding to the 2 biggest singular values"
   ]
  },
  {
   "cell_type": "code",
   "execution_count": 47,
   "metadata": {},
   "outputs": [
    {
     "data": {
      "image/png": "[encoded data removed]",
      "text/plain": [
       "<Figure size 432x288 with 1 Axes>"
      ]
     },
     "metadata": {
      "needs_background": "light"
     },
     "output_type": "display_data"
    }
   ],
   "source": [
    "import matplotlib.pyplot as plt\n",
    "\n",
    "plt.plot(U[:,0], U[:,1], 'o')\n",
    "\n",
    "for i in range(len(words)):\n",
    "    plt.text(U[i,0], U[i, 1], words[i])"
   ]
  }
 ],
 "metadata": {
  "kernelspec": {
   "display_name": "Python 3",
   "language": "python",
   "name": "python3"
  },
  "language_info": {
   "codemirror_mode": {
    "name": "ipython",
    "version": 3
   },
   "file_extension": ".py",
   "mimetype": "text/x-python",
   "name": "python",
   "nbconvert_exporter": "python",
   "pygments_lexer": "ipython3",
   "version": "3.7.4"
  }
 },
 "nbformat": 4,
 "nbformat_minor": 2
}
